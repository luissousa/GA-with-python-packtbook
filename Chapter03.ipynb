{
  "nbformat": 4,
  "nbformat_minor": 0,
  "metadata": {
    "colab": {
      "name": "Chapter03.ipynb",
      "provenance": [],
      "collapsed_sections": [],
      "authorship_tag": "ABX9TyNW0gVnkR+6fIeCD7p0shT4",
      "include_colab_link": true
    },
    "kernelspec": {
      "name": "python3",
      "display_name": "Python 3"
    },
    "language_info": {
      "name": "python"
    }
  },
  "cells": [
    {
      "cell_type": "markdown",
      "metadata": {
        "id": "view-in-github",
        "colab_type": "text"
      },
      "source": [
        "<a href=\"https://colab.research.google.com/github/luissousa/GA-with-python-packtbook/blob/main/Chapter03.ipynb\" target=\"_parent\"><img src=\"https://colab.research.google.com/assets/colab-badge.svg\" alt=\"Open In Colab\"/></a>"
      ]
    },
    {
      "cell_type": "markdown",
      "source": [
        "#Chapter 03 - OneMax problem GA"
      ],
      "metadata": {
        "id": "t1_AXQNLq9Nn"
      }
    },
    {
      "cell_type": "markdown",
      "source": [
        "Esse é o problema de algoritmo genético que basicamente é o hello world desse tipo de problema.\n",
        "No caso do problema de otimização OneMax existem uma população de invíduols que possuem genes codado como zero e un´s e se procura a solucção do problema o indivíduo que tem o mais alto valor \"fitness\", nesse caso já se sabe a priori que o indivíduo é o que possuir todos os genes iguais a 1´s, porém é essa resposta que o algoritmo deverá nos informar usando os operadores genéticos de seleção, crossover e mutação.\n",
        "Esse é um caso particular de teste para nos familiarizarmos com esses operadores e a escolha do tamanho e tipo de gene escolhido, porém a regra desse tipo de algoritmo de otimização é não sabermos qual é o valor final procurado e isso ficará a cargo da solução heurística encontrada"
      ],
      "metadata": {
        "id": "Mhs-zKem1BdG"
      }
    },
    {
      "cell_type": "markdown",
      "source": [
        "##Setup"
      ],
      "metadata": {
        "id": "GnJGb8gAu1oe"
      }
    },
    {
      "cell_type": "code",
      "source": [
        "!pip install deap"
      ],
      "metadata": {
        "colab": {
          "base_uri": "https://localhost:8080/"
        },
        "id": "c4Ol73C0rCx-",
        "outputId": "13200886-513a-4ec6-9d12-bb9ea412cd10"
      },
      "execution_count": null,
      "outputs": [
        {
          "output_type": "stream",
          "name": "stdout",
          "text": [
            "Collecting deap\n",
            "  Downloading deap-1.3.1-cp37-cp37m-manylinux_2_5_x86_64.manylinux1_x86_64.manylinux_2_12_x86_64.manylinux2010_x86_64.whl (160 kB)\n",
            "\u001b[?25l\r\u001b[K     |██                              | 10 kB 15.1 MB/s eta 0:00:01\r\u001b[K     |████                            | 20 kB 21.1 MB/s eta 0:00:01\r\u001b[K     |██████                          | 30 kB 24.3 MB/s eta 0:00:01\r\u001b[K     |████████▏                       | 40 kB 28.1 MB/s eta 0:00:01\r\u001b[K     |██████████▏                     | 51 kB 20.1 MB/s eta 0:00:01\r\u001b[K     |████████████▏                   | 61 kB 22.5 MB/s eta 0:00:01\r\u001b[K     |██████████████▎                 | 71 kB 22.1 MB/s eta 0:00:01\r\u001b[K     |████████████████▎               | 81 kB 22.5 MB/s eta 0:00:01\r\u001b[K     |██████████████████▎             | 92 kB 24.3 MB/s eta 0:00:01\r\u001b[K     |████████████████████▍           | 102 kB 25.2 MB/s eta 0:00:01\r\u001b[K     |██████████████████████▍         | 112 kB 25.2 MB/s eta 0:00:01\r\u001b[K     |████████████████████████▍       | 122 kB 25.2 MB/s eta 0:00:01\r\u001b[K     |██████████████████████████▌     | 133 kB 25.2 MB/s eta 0:00:01\r\u001b[K     |████████████████████████████▌   | 143 kB 25.2 MB/s eta 0:00:01\r\u001b[K     |██████████████████████████████▌ | 153 kB 25.2 MB/s eta 0:00:01\r\u001b[K     |████████████████████████████████| 160 kB 25.2 MB/s \n",
            "\u001b[?25hRequirement already satisfied: numpy in /usr/local/lib/python3.7/dist-packages (from deap) (1.21.5)\n",
            "Installing collected packages: deap\n",
            "Successfully installed deap-1.3.1\n"
          ]
        }
      ]
    },
    {
      "cell_type": "code",
      "source": [
        "from deap import base, creator, tools, algorithms\n",
        "import random\n",
        "import numpy as np\n",
        "import matplotlib.pyplot as plt\n",
        "import seaborn as sns"
      ],
      "metadata": {
        "id": "OSwCGZuqrMNN"
      },
      "execution_count": null,
      "outputs": []
    },
    {
      "cell_type": "code",
      "source": [
        "#problem constants?\n",
        "ONE_MAX_LENGTH = 100 #lenght of bit string to be optimized\n",
        "#Genetic algorithm constants?\n",
        "POPULATION_SIZE = 200 #number of individuals in population\n",
        "P_CROSSOVER = 0.9 #probability for crossover\n",
        "P_MUTATION = 0.1 #probability for mutating an idividual\n",
        "MAX_GENERATIONS = 50 #max number of generations for stopping condition\n"
      ],
      "metadata": {
        "id": "KFf-y7mgrX49"
      },
      "execution_count": null,
      "outputs": []
    },
    {
      "cell_type": "code",
      "source": [
        "RANDOM_SEED = 42\n",
        "random.seed(RANDOM_SEED)"
      ],
      "metadata": {
        "id": "_YVdhTn3sNGV"
      },
      "execution_count": null,
      "outputs": []
    },
    {
      "cell_type": "code",
      "source": [
        "toolbox = base.Toolbox()\n",
        "toolbox.register(\"zeroOrone\",random.randint,0,1)"
      ],
      "metadata": {
        "id": "q_ijleTDsVx1"
      },
      "execution_count": null,
      "outputs": []
    },
    {
      "cell_type": "code",
      "source": [
        "creator.create(\"FitnessMax\",base.Fitness,weights=(1.0,))"
      ],
      "metadata": {
        "id": "KenWkGrysowG"
      },
      "execution_count": null,
      "outputs": []
    },
    {
      "cell_type": "code",
      "source": [
        "creator.create(\"Individual\",list,fitness=creator.FitnessMax)"
      ],
      "metadata": {
        "id": "QyhB0OUrs1-O"
      },
      "execution_count": null,
      "outputs": []
    },
    {
      "cell_type": "code",
      "source": [
        "toolbox.register(\"individualCreator\",tools.initRepeat,creator.Individual,toolbox.zeroOrone,ONE_MAX_LENGTH)"
      ],
      "metadata": {
        "id": "EOJA7ZS4s_zO"
      },
      "execution_count": null,
      "outputs": []
    },
    {
      "cell_type": "code",
      "source": [
        "toolbox.register(\"populationCreator\",tools.initRepeat,list,toolbox.individualCreator)"
      ],
      "metadata": {
        "id": "5MawLMpmtPwu"
      },
      "execution_count": null,
      "outputs": []
    },
    {
      "cell_type": "code",
      "source": [
        "def oneMaxFitness(individual):\n",
        "  return sum(individual), #return a tuple"
      ],
      "metadata": {
        "id": "lZ4Q5wY5tdwt"
      },
      "execution_count": null,
      "outputs": []
    },
    {
      "cell_type": "code",
      "source": [
        "toolbox.register(\"evaluate\",oneMaxFitness)"
      ],
      "metadata": {
        "id": "h4EcBpUQts_F"
      },
      "execution_count": null,
      "outputs": []
    },
    {
      "cell_type": "code",
      "source": [
        "toolbox.register(\"select\",tools.selTournament,tournsize=3)\n",
        "toolbox.register(\"mate\",tools.cxOnePoint)\n",
        "toolbox.register(\"mutate\",tools.mutFlipBit,indpb=1.0/ONE_MAX_LENGTH)"
      ],
      "metadata": {
        "id": "M1OGLagNt3W1"
      },
      "execution_count": null,
      "outputs": []
    },
    {
      "cell_type": "markdown",
      "source": [
        "##Envolving the solution"
      ],
      "metadata": {
        "id": "ap7e3JuIuZEt"
      }
    },
    {
      "cell_type": "code",
      "source": [
        "population = toolbox.populationCreator(n=POPULATION_SIZE)\n",
        "generationCounter = 0"
      ],
      "metadata": {
        "id": "LHDkU-UCuVVl"
      },
      "execution_count": null,
      "outputs": []
    },
    {
      "cell_type": "code",
      "source": [
        "fitnessValues = list(map(toolbox.evaluate,population))"
      ],
      "metadata": {
        "id": "2ILgwfOquzet"
      },
      "execution_count": null,
      "outputs": []
    },
    {
      "cell_type": "code",
      "source": [
        "for individual, fitnessValue in zip(population, fitnessValues):\n",
        "        individual.fitness.values = fitnessValue"
      ],
      "metadata": {
        "id": "xnvOds1qvHre"
      },
      "execution_count": null,
      "outputs": []
    },
    {
      "cell_type": "code",
      "source": [
        "fitnessValues = [individual.fitness.values[0] for individual in population]"
      ],
      "metadata": {
        "id": "mBOn8sShviNd"
      },
      "execution_count": null,
      "outputs": []
    },
    {
      "cell_type": "code",
      "source": [
        "maxFitnessValues = []\n",
        "meanFitnessValues = []"
      ],
      "metadata": {
        "id": "ZxKItL9WyoMt"
      },
      "execution_count": null,
      "outputs": []
    },
    {
      "cell_type": "code",
      "source": [
        "while max(fitnessValues) < ONE_MAX_LENGTH and generationCounter < MAX_GENERATIONS:\n",
        "        # update counter:\n",
        "        generationCounter = generationCounter + 1\n",
        "\n",
        "        # apply the selection operator, to select the next generation's individuals:\n",
        "        offspring = toolbox.select(population, len(population))\n",
        "        # clone the selected individuals:\n",
        "        offspring = list(map(toolbox.clone, offspring))\n",
        "\n",
        "        # apply the crossover operator to pairs of offspring:\n",
        "        for child1, child2 in zip(offspring[::2], offspring[1::2]):\n",
        "            if random.random() < P_CROSSOVER:\n",
        "                toolbox.mate(child1, child2)\n",
        "                del child1.fitness.values\n",
        "                del child2.fitness.values\n",
        "\n",
        "        for mutant in offspring:\n",
        "            if random.random() < P_MUTATION:\n",
        "                toolbox.mutate(mutant)\n",
        "                del mutant.fitness.values\n",
        "\n",
        "        # calculate fitness for the individuals with no previous calculated fitness value:\n",
        "        freshIndividuals = [ind for ind in offspring if not ind.fitness.valid]\n",
        "        freshFitnessValues = list(map(toolbox.evaluate, freshIndividuals))\n",
        "        for individual, fitnessValue in zip(freshIndividuals, freshFitnessValues):\n",
        "            individual.fitness.values = fitnessValue\n",
        "\n",
        "        # replace the current population with the offspring:\n",
        "        population[:] = offspring\n",
        "\n",
        "        # collect fitnessValues into a list, update statistics and print:\n",
        "        fitnessValues = [ind.fitness.values[0] for ind in population]\n",
        "\n",
        "        maxFitness = max(fitnessValues)\n",
        "        meanFitness = sum(fitnessValues) / len(population)\n",
        "        maxFitnessValues.append(maxFitness)\n",
        "        meanFitnessValues.append(meanFitness)\n",
        "        print(\"- Generation {}: Max Fitness = {}, Avg Fitness = {}\".format(generationCounter, maxFitness, meanFitness))\n",
        "\n",
        "        # find and print best individual:\n",
        "        best_index = fitnessValues.index(max(fitnessValues))\n",
        "        print(\"Best Individual = \", *population[best_index], \"\\n\")"
      ],
      "metadata": {
        "colab": {
          "base_uri": "https://localhost:8080/"
        },
        "id": "LB0-1Zffy7MO",
        "outputId": "2b20daa6-5a74-4999-fae1-7f33becda493"
      },
      "execution_count": null,
      "outputs": [
        {
          "output_type": "stream",
          "name": "stdout",
          "text": [
            "- Generation 1: Max Fitness = 65.0, Avg Fitness = 53.575\n",
            "Best Individual =  1 1 0 1 0 1 0 0 1 0 0 0 1 1 1 0 1 0 0 1 0 1 0 0 0 1 1 1 1 1 0 1 1 1 1 0 1 0 1 1 1 1 0 0 1 1 1 1 1 1 0 1 1 1 1 1 0 1 1 1 1 1 1 1 0 0 0 0 1 0 1 0 1 1 1 0 1 1 0 0 0 1 1 1 0 0 1 1 1 1 1 1 1 1 1 1 1 1 0 0 \n",
            "\n",
            "- Generation 2: Max Fitness = 66.0, Avg Fitness = 56.855\n",
            "Best Individual =  1 1 1 0 0 1 0 1 1 1 0 1 1 1 0 1 1 0 1 0 0 0 0 0 0 1 1 1 1 1 0 1 1 0 1 1 0 0 0 1 0 1 1 1 1 1 1 1 1 1 0 1 1 1 1 1 0 1 1 1 1 1 1 1 0 0 0 0 1 0 1 0 1 1 1 0 1 1 0 0 0 1 1 1 0 0 1 1 1 1 1 1 1 1 1 1 1 1 0 0 \n",
            "\n",
            "- Generation 3: Max Fitness = 69.0, Avg Fitness = 59.42\n",
            "Best Individual =  1 0 1 1 1 0 1 0 1 1 1 1 1 0 0 1 0 1 0 1 1 1 0 0 0 0 1 1 1 1 1 1 1 1 0 1 1 1 0 0 1 1 1 1 1 1 1 0 1 1 1 0 1 0 0 0 0 1 1 1 1 1 1 1 1 1 1 1 1 0 1 1 0 1 1 0 1 1 1 1 0 1 1 0 0 1 1 0 1 1 1 1 1 0 0 1 0 1 1 0 \n",
            "\n",
            "- Generation 4: Max Fitness = 70.0, Avg Fitness = 62.03\n",
            "Best Individual =  1 0 0 0 0 1 1 1 1 1 1 0 1 1 1 1 0 1 1 0 0 1 0 0 0 0 1 1 1 1 1 1 1 1 0 1 1 1 0 0 1 1 1 1 1 1 1 0 1 1 0 0 1 0 1 0 0 1 1 1 1 0 1 0 1 0 1 0 0 1 1 0 1 1 0 1 1 1 1 1 1 1 1 1 1 1 1 1 1 1 0 1 0 1 1 1 1 1 1 1 \n",
            "\n",
            "- Generation 5: Max Fitness = 75.0, Avg Fitness = 64.715\n",
            "Best Individual =  1 0 1 1 1 0 1 0 1 1 1 1 1 0 0 1 0 1 0 1 1 1 0 0 0 0 1 1 1 1 1 1 1 1 0 1 1 1 0 0 1 1 1 1 1 1 1 0 1 1 1 0 1 0 0 0 0 1 1 1 1 1 1 1 1 1 1 1 1 0 1 1 0 1 0 1 1 1 1 1 1 1 1 1 1 1 1 1 1 1 0 1 0 1 1 1 1 1 1 1 \n",
            "\n",
            "- Generation 6: Max Fitness = 75.0, Avg Fitness = 67.515\n",
            "Best Individual =  1 1 1 0 0 1 1 0 1 1 1 1 1 1 0 1 1 0 1 1 0 1 0 0 0 1 1 1 1 1 1 1 0 1 1 1 1 1 1 1 1 1 0 1 0 1 1 0 1 1 1 0 0 1 1 0 1 1 0 1 1 1 1 1 1 0 1 1 1 1 0 1 0 1 0 1 1 0 0 1 1 1 1 1 1 1 1 1 1 1 0 1 0 1 1 1 1 1 1 1 \n",
            "\n",
            "- Generation 7: Max Fitness = 77.0, Avg Fitness = 70.215\n",
            "Best Individual =  1 0 0 1 1 0 0 0 1 1 1 1 1 0 1 1 1 0 0 1 1 1 0 1 0 1 1 1 1 1 1 1 1 1 0 1 1 1 0 0 1 1 1 1 1 1 1 0 1 1 1 0 1 1 1 0 0 1 1 1 1 1 1 1 1 1 1 1 1 0 1 1 0 1 1 0 1 1 1 1 0 1 1 0 1 1 1 1 1 1 1 1 0 1 1 1 1 1 1 1 \n",
            "\n",
            "- Generation 8: Max Fitness = 81.0, Avg Fitness = 72.475\n",
            "Best Individual =  1 0 1 1 1 0 1 1 1 1 1 1 1 0 0 1 1 1 1 0 0 1 0 1 0 1 1 1 1 1 1 1 1 1 0 1 1 1 0 0 1 1 1 1 1 1 1 0 1 1 1 0 1 1 1 0 0 1 1 1 1 1 1 1 1 1 1 1 1 0 1 1 0 1 1 1 1 1 1 1 1 1 1 1 1 1 1 1 1 1 0 1 0 1 1 1 1 1 1 1 \n",
            "\n",
            "- Generation 9: Max Fitness = 82.0, Avg Fitness = 74.79\n",
            "Best Individual =  1 0 1 1 1 0 1 1 1 1 1 1 1 0 1 1 1 1 1 1 0 1 1 1 0 1 0 1 0 0 1 1 1 1 1 1 1 1 1 1 1 1 1 1 1 1 1 0 1 1 1 0 1 0 0 0 0 1 1 1 1 1 1 1 1 1 1 1 1 0 1 1 0 1 1 1 1 1 1 1 1 1 1 1 1 1 1 1 1 1 0 1 0 1 1 1 1 1 1 1 \n",
            "\n",
            "- Generation 10: Max Fitness = 85.0, Avg Fitness = 76.685\n",
            "Best Individual =  1 0 1 1 1 0 1 1 1 1 1 1 1 0 1 1 1 1 1 1 0 1 1 1 0 1 0 1 0 0 1 1 1 1 1 1 1 1 1 1 1 1 1 1 1 1 1 1 1 1 0 1 1 1 1 1 0 1 1 1 1 0 1 1 0 1 1 1 1 1 1 1 1 1 0 1 1 1 1 1 1 1 1 1 1 1 1 1 1 1 0 1 0 1 1 1 1 1 1 1 \n",
            "\n",
            "- Generation 11: Max Fitness = 85.0, Avg Fitness = 78.46\n",
            "Best Individual =  1 0 1 1 1 0 1 1 1 1 1 1 1 0 1 1 1 1 1 1 0 1 1 1 0 1 0 1 0 0 1 1 1 1 1 1 1 1 1 1 1 1 1 1 1 1 1 1 1 1 0 1 1 1 1 1 0 1 1 1 1 0 1 1 0 1 1 1 1 1 1 1 1 1 0 1 1 1 1 1 1 1 1 1 1 1 1 1 1 1 0 1 0 1 1 1 1 1 1 1 \n",
            "\n",
            "- Generation 12: Max Fitness = 87.0, Avg Fitness = 80.265\n",
            "Best Individual =  1 0 1 1 1 1 1 1 1 1 1 1 1 0 1 1 1 1 1 1 0 1 1 1 0 1 0 1 0 0 1 1 1 1 1 1 1 1 1 1 1 1 1 1 1 1 1 1 1 1 0 1 1 1 1 1 0 1 1 1 1 0 1 1 0 1 1 1 1 1 1 1 1 1 1 1 1 1 1 1 1 1 1 1 1 1 1 1 1 1 0 1 0 1 1 1 1 1 1 1 \n",
            "\n",
            "- Generation 13: Max Fitness = 87.0, Avg Fitness = 81.8\n",
            "Best Individual =  1 0 1 1 1 1 1 1 1 1 1 1 1 0 1 1 1 1 1 1 0 1 1 1 0 1 0 1 0 0 1 1 1 1 1 1 1 1 1 1 1 1 1 1 1 1 1 1 1 1 0 1 1 1 1 1 0 1 1 1 1 0 1 1 0 1 1 1 1 1 1 1 1 1 1 1 1 1 1 1 1 1 1 1 1 1 1 1 1 1 0 1 0 1 1 1 1 1 1 1 \n",
            "\n",
            "- Generation 14: Max Fitness = 87.0, Avg Fitness = 83.15\n",
            "Best Individual =  1 0 1 1 1 1 1 1 1 1 1 1 1 0 1 1 1 1 1 1 0 1 1 1 0 1 0 1 0 0 1 1 1 1 1 1 1 1 1 1 1 1 1 1 1 1 1 1 1 1 0 1 1 1 1 1 0 1 1 1 1 0 1 1 0 1 1 1 1 1 1 1 1 1 1 1 1 1 1 1 1 1 1 1 1 1 1 1 1 1 0 1 0 1 1 1 1 1 1 1 \n",
            "\n",
            "- Generation 15: Max Fitness = 89.0, Avg Fitness = 84.4\n",
            "Best Individual =  1 0 1 1 1 1 1 1 1 1 1 1 1 0 1 1 1 1 1 1 0 1 1 1 0 0 1 1 1 1 1 1 1 1 0 1 1 1 0 1 1 1 1 1 1 1 1 1 1 1 0 1 1 1 1 1 0 1 1 1 1 1 1 1 1 1 1 1 1 1 1 1 1 1 1 1 1 1 1 1 1 1 1 1 1 1 1 1 1 1 0 1 0 1 1 1 1 1 1 1 \n",
            "\n",
            "- Generation 16: Max Fitness = 89.0, Avg Fitness = 85.59\n",
            "Best Individual =  1 0 1 1 1 1 1 1 1 1 1 1 1 0 1 1 1 1 1 1 0 1 1 1 0 1 0 1 0 1 1 1 1 1 1 1 1 1 1 1 1 1 1 1 1 1 1 1 1 1 0 1 1 1 1 1 0 1 1 1 1 1 1 1 1 1 1 1 1 1 1 1 1 1 0 1 1 1 1 1 1 1 1 1 1 1 1 1 1 1 0 1 0 1 1 1 1 1 1 1 \n",
            "\n",
            "- Generation 17: Max Fitness = 90.0, Avg Fitness = 86.755\n",
            "Best Individual =  1 0 1 1 1 1 1 1 1 1 1 1 1 0 1 1 1 1 1 1 0 1 1 1 0 1 0 1 1 1 1 1 0 1 1 1 1 1 1 1 1 1 1 1 1 1 1 1 1 1 0 1 1 1 1 1 0 1 1 1 1 1 1 1 1 1 1 1 1 1 1 1 1 1 1 1 1 1 1 1 1 1 1 1 1 1 1 1 1 1 0 1 0 1 1 1 1 1 1 1 \n",
            "\n",
            "- Generation 18: Max Fitness = 91.0, Avg Fitness = 87.715\n",
            "Best Individual =  1 0 1 1 1 1 1 1 1 1 1 1 1 0 1 1 1 1 1 1 0 1 1 1 0 1 0 1 1 1 1 1 1 1 1 1 1 1 1 1 1 1 1 1 1 1 1 1 1 1 0 1 1 1 1 1 0 1 1 1 1 1 1 1 1 1 1 1 1 1 1 1 1 1 1 1 1 1 1 1 1 1 1 1 1 1 1 1 1 1 0 1 0 1 1 1 1 1 1 1 \n",
            "\n",
            "- Generation 19: Max Fitness = 92.0, Avg Fitness = 88.495\n",
            "Best Individual =  1 1 1 1 1 1 1 1 1 1 1 1 1 0 1 1 1 1 1 1 0 1 1 1 0 1 0 1 1 1 1 1 1 1 1 1 1 1 1 1 1 1 1 1 1 1 1 1 1 1 1 1 1 1 1 1 0 1 1 1 1 0 1 1 0 1 1 1 1 1 1 1 1 1 1 1 1 1 1 1 1 1 1 1 1 1 1 1 1 1 1 1 1 0 1 1 1 1 1 1 \n",
            "\n",
            "- Generation 20: Max Fitness = 92.0, Avg Fitness = 89.275\n",
            "Best Individual =  1 1 1 1 1 1 1 1 1 1 1 1 1 0 1 1 1 1 1 1 0 1 1 1 0 1 1 1 0 0 1 1 1 1 1 1 1 1 1 1 1 1 1 1 1 1 1 1 1 1 0 1 1 1 1 1 0 1 1 1 1 1 1 1 1 1 1 1 1 1 1 1 1 1 1 1 1 1 1 1 1 1 1 1 1 1 1 1 1 1 1 1 1 0 1 1 1 1 1 1 \n",
            "\n",
            "- Generation 21: Max Fitness = 93.0, Avg Fitness = 90.04\n",
            "Best Individual =  1 1 1 1 1 1 1 1 1 1 1 1 1 0 1 1 1 1 1 1 0 1 1 1 1 1 0 1 1 1 1 1 1 1 1 1 1 1 1 1 1 1 1 1 1 1 1 1 1 1 0 1 1 1 1 1 0 1 1 1 1 1 1 1 1 1 1 1 1 1 1 1 1 1 1 1 1 1 1 1 1 1 1 1 1 1 1 1 1 1 0 1 0 1 1 1 1 1 1 1 \n",
            "\n",
            "- Generation 22: Max Fitness = 94.0, Avg Fitness = 90.865\n",
            "Best Individual =  1 0 1 1 1 1 1 1 1 1 1 1 1 0 1 1 1 1 1 1 0 1 1 1 0 1 1 1 1 1 1 1 1 1 1 1 1 1 1 1 1 1 1 1 1 1 1 1 1 1 0 1 1 1 1 1 1 1 1 1 1 1 1 1 1 1 1 1 1 1 1 1 1 1 1 1 1 1 1 1 1 1 1 1 1 1 1 1 1 1 1 1 1 0 1 1 1 1 1 1 \n",
            "\n",
            "- Generation 23: Max Fitness = 94.0, Avg Fitness = 91.645\n",
            "Best Individual =  1 1 1 1 1 1 1 1 1 1 1 1 1 0 1 1 1 1 1 1 0 1 1 1 0 1 1 1 1 1 1 1 1 1 1 1 1 1 1 1 1 1 1 1 1 1 1 1 1 1 0 1 1 1 1 1 0 1 1 1 1 1 1 1 1 1 1 1 1 1 1 1 1 1 1 1 1 1 1 1 1 1 1 1 1 1 1 1 1 1 1 1 0 1 1 1 1 1 1 1 \n",
            "\n",
            "- Generation 24: Max Fitness = 95.0, Avg Fitness = 92.69\n",
            "Best Individual =  1 1 1 1 1 1 1 1 1 1 1 1 1 0 1 1 1 1 1 1 0 1 1 1 0 1 1 1 1 1 1 1 1 1 1 1 1 1 1 1 1 1 1 1 1 1 1 1 1 1 0 1 1 1 1 1 1 1 1 1 1 1 1 1 1 1 1 1 1 1 1 1 1 1 1 1 1 1 1 1 1 1 1 1 1 1 1 1 1 1 1 1 0 1 1 1 1 1 1 1 \n",
            "\n",
            "- Generation 25: Max Fitness = 95.0, Avg Fitness = 93.325\n",
            "Best Individual =  1 1 1 1 1 1 1 1 1 1 1 1 1 0 1 1 1 1 1 1 0 1 1 1 1 1 0 1 1 1 1 1 1 1 1 1 1 1 1 1 1 1 1 1 1 1 1 1 1 1 0 1 1 1 1 1 1 1 1 1 1 1 1 1 1 1 1 1 1 1 1 1 1 1 1 1 1 1 1 1 1 1 1 1 1 1 1 1 1 1 1 1 0 1 1 1 1 1 1 1 \n",
            "\n",
            "- Generation 26: Max Fitness = 95.0, Avg Fitness = 93.935\n",
            "Best Individual =  1 1 1 1 1 1 1 1 1 1 1 1 1 0 1 1 1 1 1 1 0 1 1 1 0 1 1 1 1 1 1 1 1 1 1 1 1 1 1 1 1 1 1 1 1 1 1 1 1 1 0 1 1 1 1 1 1 1 1 1 1 1 1 1 1 1 1 1 1 1 1 1 1 1 1 1 1 1 1 1 1 1 1 1 1 1 1 1 1 1 1 1 1 0 1 1 1 1 1 1 \n",
            "\n",
            "- Generation 27: Max Fitness = 96.0, Avg Fitness = 94.39\n",
            "Best Individual =  1 1 1 1 1 1 1 1 1 1 1 1 1 0 1 1 1 1 1 1 1 1 1 1 0 1 1 1 1 1 1 1 1 1 1 1 1 1 1 1 1 1 1 1 1 1 1 1 1 1 0 1 1 1 1 1 1 1 1 1 1 1 1 1 1 1 1 1 1 1 1 1 1 1 1 1 1 1 1 1 1 1 1 1 1 1 1 1 1 1 1 1 1 0 1 1 1 1 1 1 \n",
            "\n",
            "- Generation 28: Max Fitness = 96.0, Avg Fitness = 94.84\n",
            "Best Individual =  1 1 1 1 1 1 1 1 1 1 1 1 1 0 1 1 1 1 1 1 0 1 1 1 1 1 1 1 1 1 1 1 1 1 1 1 1 1 1 1 1 1 1 1 1 1 1 1 1 1 0 1 1 1 1 1 1 1 1 1 1 1 1 1 1 1 1 1 1 1 1 1 1 1 1 1 1 1 1 1 1 1 1 1 1 1 1 1 1 1 1 1 1 0 1 1 1 1 1 1 \n",
            "\n",
            "- Generation 29: Max Fitness = 96.0, Avg Fitness = 95.07\n",
            "Best Individual =  1 1 1 1 1 1 1 1 1 1 1 1 1 0 1 1 1 1 1 1 1 1 1 1 0 1 1 1 1 1 1 1 1 1 1 1 1 1 1 1 1 1 1 1 1 1 1 1 1 1 0 1 1 1 1 1 1 1 1 1 1 1 1 1 1 1 1 1 1 1 1 1 1 1 1 1 1 1 1 1 1 1 1 1 1 1 1 1 1 1 1 1 0 1 1 1 1 1 1 1 \n",
            "\n",
            "- Generation 30: Max Fitness = 97.0, Avg Fitness = 95.325\n",
            "Best Individual =  1 1 1 1 1 1 1 1 1 1 1 1 1 0 1 1 1 1 1 1 0 1 1 1 1 1 1 1 1 1 1 1 1 1 1 1 1 1 1 1 1 1 1 1 1 1 1 1 1 1 0 1 1 1 1 1 1 1 1 1 1 1 1 1 1 1 1 1 1 1 1 1 1 1 1 1 1 1 1 1 1 1 1 1 1 1 1 1 1 1 1 1 1 1 1 1 1 1 1 1 \n",
            "\n",
            "- Generation 31: Max Fitness = 97.0, Avg Fitness = 95.69\n",
            "Best Individual =  1 1 1 1 1 1 1 1 1 1 1 1 1 0 1 1 1 1 1 1 1 1 1 1 0 1 1 1 1 1 1 1 1 1 1 1 1 1 1 1 1 1 1 1 1 1 1 1 1 1 0 1 1 1 1 1 1 1 1 1 1 1 1 1 1 1 1 1 1 1 1 1 1 1 1 1 1 1 1 1 1 1 1 1 1 1 1 1 1 1 1 1 1 1 1 1 1 1 1 1 \n",
            "\n",
            "- Generation 32: Max Fitness = 97.0, Avg Fitness = 95.93\n",
            "Best Individual =  1 1 1 1 1 1 1 1 1 1 1 1 1 0 1 1 1 1 1 1 1 1 1 1 0 1 1 1 1 1 1 1 1 1 1 1 1 1 1 1 1 1 1 1 1 1 1 1 1 1 0 1 1 1 1 1 1 1 1 1 1 1 1 1 1 1 1 1 1 1 1 1 1 1 1 1 1 1 1 1 1 1 1 1 1 1 1 1 1 1 1 1 1 1 1 1 1 1 1 1 \n",
            "\n",
            "- Generation 33: Max Fitness = 97.0, Avg Fitness = 96.085\n",
            "Best Individual =  1 1 1 1 1 1 1 1 1 1 1 1 1 0 1 1 1 1 1 1 1 1 1 1 1 1 1 1 1 1 1 1 1 1 1 1 1 1 1 1 1 1 1 1 1 1 1 1 1 1 0 1 1 1 1 1 1 1 1 1 1 1 1 1 1 1 1 1 1 1 1 1 1 1 1 1 1 1 1 1 1 1 1 1 1 1 1 1 1 1 1 1 0 1 1 1 1 1 1 1 \n",
            "\n",
            "- Generation 34: Max Fitness = 98.0, Avg Fitness = 96.325\n",
            "Best Individual =  1 1 1 1 1 1 1 1 1 1 1 1 1 0 1 1 1 1 1 1 1 1 1 1 1 1 1 1 1 1 1 1 1 1 1 1 1 1 1 1 1 1 1 1 1 1 1 1 1 1 0 1 1 1 1 1 1 1 1 1 1 1 1 1 1 1 1 1 1 1 1 1 1 1 1 1 1 1 1 1 1 1 1 1 1 1 1 1 1 1 1 1 1 1 1 1 1 1 1 1 \n",
            "\n",
            "- Generation 35: Max Fitness = 98.0, Avg Fitness = 96.835\n",
            "Best Individual =  1 1 1 1 1 1 1 1 1 1 1 1 1 0 1 1 1 1 1 1 1 1 1 1 1 1 1 1 1 1 1 1 1 1 1 1 1 1 1 1 1 1 1 1 1 1 1 1 1 1 0 1 1 1 1 1 1 1 1 1 1 1 1 1 1 1 1 1 1 1 1 1 1 1 1 1 1 1 1 1 1 1 1 1 1 1 1 1 1 1 1 1 1 1 1 1 1 1 1 1 \n",
            "\n",
            "- Generation 36: Max Fitness = 98.0, Avg Fitness = 97.18\n",
            "Best Individual =  1 1 1 1 1 1 1 1 1 1 1 1 1 0 1 1 1 1 1 1 1 1 1 1 1 1 1 1 1 1 1 1 1 1 1 1 1 1 1 1 1 1 1 1 1 1 1 1 1 1 0 1 1 1 1 1 1 1 1 1 1 1 1 1 1 1 1 1 1 1 1 1 1 1 1 1 1 1 1 1 1 1 1 1 1 1 1 1 1 1 1 1 1 1 1 1 1 1 1 1 \n",
            "\n",
            "- Generation 37: Max Fitness = 99.0, Avg Fitness = 97.655\n",
            "Best Individual =  1 1 1 1 1 1 1 1 1 1 1 1 1 1 1 1 1 1 1 1 1 1 1 1 1 1 1 1 1 1 1 1 1 1 1 1 1 1 1 1 1 1 1 1 1 1 1 1 1 1 0 1 1 1 1 1 1 1 1 1 1 1 1 1 1 1 1 1 1 1 1 1 1 1 1 1 1 1 1 1 1 1 1 1 1 1 1 1 1 1 1 1 1 1 1 1 1 1 1 1 \n",
            "\n",
            "- Generation 38: Max Fitness = 99.0, Avg Fitness = 97.91\n",
            "Best Individual =  1 1 1 1 1 1 1 1 1 1 1 1 1 1 1 1 1 1 1 1 1 1 1 1 1 1 1 1 1 1 1 1 1 1 1 1 1 1 1 1 1 1 1 1 1 1 1 1 1 1 0 1 1 1 1 1 1 1 1 1 1 1 1 1 1 1 1 1 1 1 1 1 1 1 1 1 1 1 1 1 1 1 1 1 1 1 1 1 1 1 1 1 1 1 1 1 1 1 1 1 \n",
            "\n",
            "- Generation 39: Max Fitness = 99.0, Avg Fitness = 98.04\n",
            "Best Individual =  1 1 1 1 1 1 1 1 1 1 1 1 1 0 1 1 1 1 1 1 1 1 1 1 1 1 1 1 1 1 1 1 1 1 1 1 1 1 1 1 1 1 1 1 1 1 1 1 1 1 1 1 1 1 1 1 1 1 1 1 1 1 1 1 1 1 1 1 1 1 1 1 1 1 1 1 1 1 1 1 1 1 1 1 1 1 1 1 1 1 1 1 1 1 1 1 1 1 1 1 \n",
            "\n",
            "- Generation 40: Max Fitness = 100.0, Avg Fitness = 98.29\n",
            "Best Individual =  1 1 1 1 1 1 1 1 1 1 1 1 1 1 1 1 1 1 1 1 1 1 1 1 1 1 1 1 1 1 1 1 1 1 1 1 1 1 1 1 1 1 1 1 1 1 1 1 1 1 1 1 1 1 1 1 1 1 1 1 1 1 1 1 1 1 1 1 1 1 1 1 1 1 1 1 1 1 1 1 1 1 1 1 1 1 1 1 1 1 1 1 1 1 1 1 1 1 1 1 \n",
            "\n"
          ]
        }
      ]
    },
    {
      "cell_type": "code",
      "source": [
        "# Genetic Algorithm is done - plot statistics:\n",
        "sns.set_style(\"whitegrid\")\n",
        "plt.plot(maxFitnessValues, color='red')\n",
        "plt.plot(meanFitnessValues, color='green')\n",
        "plt.xlabel('Generation')\n",
        "plt.ylabel('Max / Average Fitness')\n",
        "plt.title('Max and Average Fitness over Generations')\n",
        "plt.show()"
      ],
      "metadata": {
        "colab": {
          "base_uri": "https://localhost:8080/",
          "height": 295
        },
        "id": "khNax9oi0xU0",
        "outputId": "8ff1a73e-26d3-463f-950a-157a9d3b607b"
      },
      "execution_count": null,
      "outputs": [
        {
          "output_type": "display_data",
          "data": {
            "text/plain": [
              "<Figure size 432x288 with 1 Axes>"
            ],
            "image/png": "[encoded data removed]"
          },
          "metadata": {}
        }
      ]
    },
    {
      "cell_type": "markdown",
      "source": [
        "#Using built-in algorithms"
      ],
      "metadata": {
        "id": "xDuG2aeQFUuN"
      }
    },
    {
      "cell_type": "markdown",
      "source": [
        "Até o passo 13 é repetido a primeiro algoritmo do livro"
      ],
      "metadata": {
        "id": "OCj3ksdJHjHW"
      }
    },
    {
      "cell_type": "markdown",
      "source": [
        "##02-OneMax"
      ],
      "metadata": {
        "id": "widxLFYLHs5z"
      }
    },
    {
      "cell_type": "markdown",
      "source": [
        "Basicamente usando comandos internos do DEAP podemos eliminar o while loop, porém se perde com isso a condição de parada que antes mostrava que o programa convergia para a resposta em 40 gerações e agora o programa funciona até se esgotar a definição dada de parar com 50 gerações e caso se aumente o programa levará mais tempo funcionando, mesmo tendo encontrado a resposta a muitos ciclos computacionais antes."
      ],
      "metadata": {
        "id": "OKVvu6r9GuAd"
      }
    },
    {
      "cell_type": "code",
      "source": [
        "# prepare the statistics object:\n",
        "stats = tools.Statistics(lambda ind: ind.fitness.values)\n",
        "stats.register(\"max\", np.max)\n",
        "stats.register(\"avg\", np.mean)"
      ],
      "metadata": {
        "id": "rUf8P_WJFbZs"
      },
      "execution_count": null,
      "outputs": []
    },
    {
      "cell_type": "code",
      "source": [
        "# perform the Genetic Algorithm flow:\n",
        "population, logbook = algorithms.eaSimple(population, toolbox,\n",
        "                                          cxpb=P_CROSSOVER, mutpb=P_MUTATION,\n",
        "                                          ngen=MAX_GENERATIONS,\n",
        "                                          stats=stats, verbose=True)"
      ],
      "metadata": {
        "colab": {
          "base_uri": "https://localhost:8080/"
        },
        "id": "WV79RAJDGQlP",
        "outputId": "fd9431e4-17f0-4862-8f16-1eddfe085111"
      },
      "execution_count": null,
      "outputs": [
        {
          "output_type": "stream",
          "name": "stdout",
          "text": [
            "gen\tnevals\tmax\tavg  \n",
            "0  \t0     \t100\t98.29\n",
            "1  \t182   \t100\t98.55\n",
            "2  \t176   \t100\t98.915\n",
            "3  \t188   \t100\t99.195\n",
            "4  \t192   \t100\t99.595\n",
            "5  \t193   \t100\t99.82 \n",
            "6  \t189   \t100\t99.82 \n",
            "7  \t189   \t100\t99.895\n",
            "8  \t190   \t100\t99.875\n",
            "9  \t187   \t100\t99.83 \n",
            "10 \t184   \t100\t99.89 \n",
            "11 \t183   \t100\t99.885\n",
            "12 \t187   \t100\t99.845\n",
            "13 \t184   \t100\t99.915\n",
            "14 \t183   \t100\t99.94 \n",
            "15 \t182   \t100\t99.88 \n",
            "16 \t180   \t100\t99.905\n",
            "17 \t180   \t100\t99.89 \n",
            "18 \t181   \t100\t99.935\n",
            "19 \t190   \t100\t99.88 \n",
            "20 \t182   \t100\t99.9  \n",
            "21 \t181   \t100\t99.92 \n",
            "22 \t182   \t100\t99.895\n",
            "23 \t178   \t100\t99.89 \n",
            "24 \t177   \t100\t99.925\n",
            "25 \t188   \t100\t99.915\n",
            "26 \t180   \t100\t99.89 \n",
            "27 \t184   \t100\t99.885\n",
            "28 \t189   \t100\t99.905\n",
            "29 \t178   \t100\t99.905\n",
            "30 \t186   \t100\t99.9  \n",
            "31 \t183   \t100\t99.88 \n",
            "32 \t194   \t100\t99.925\n",
            "33 \t186   \t100\t99.93 \n",
            "34 \t185   \t100\t99.87 \n",
            "35 \t181   \t100\t99.82 \n",
            "36 \t179   \t100\t99.87 \n",
            "37 \t173   \t100\t99.92 \n",
            "38 \t189   \t100\t99.89 \n",
            "39 \t171   \t100\t99.91 \n",
            "40 \t182   \t100\t99.865\n",
            "41 \t177   \t100\t99.94 \n",
            "42 \t182   \t100\t99.84 \n",
            "43 \t181   \t100\t99.92 \n",
            "44 \t174   \t100\t99.865\n",
            "45 \t185   \t100\t99.94 \n",
            "46 \t186   \t100\t99.895\n",
            "47 \t187   \t100\t99.88 \n",
            "48 \t175   \t100\t99.89 \n",
            "49 \t187   \t100\t99.87 \n",
            "50 \t187   \t100\t99.885\n"
          ]
        }
      ]
    },
    {
      "cell_type": "code",
      "source": [
        "# Genetic Algorithm is done - extract statistics:\n",
        "maxFitnessValues, meanFitnessValues = logbook.select(\"max\", \"avg\")"
      ],
      "metadata": {
        "id": "iELpxRb9Gfx8"
      },
      "execution_count": null,
      "outputs": []
    },
    {
      "cell_type": "code",
      "source": [
        "# plot statistics:\n",
        "sns.set_style(\"whitegrid\")\n",
        "plt.plot(maxFitnessValues, color='red')\n",
        "plt.plot(meanFitnessValues, color='green')\n",
        "plt.xlabel('Generation')\n",
        "plt.ylabel('Max / Average Fitness')\n",
        "plt.title('Max and Average Fitness over Generations')\n",
        "plt.show()"
      ],
      "metadata": {
        "colab": {
          "base_uri": "https://localhost:8080/",
          "height": 295
        },
        "id": "3__cRw6OGmNE",
        "outputId": "556c0977-72fd-492a-f357-bd7e9721174f"
      },
      "execution_count": null,
      "outputs": [
        {
          "output_type": "display_data",
          "data": {
            "text/plain": [
              "<Figure size 432x288 with 1 Axes>"
            ],
            "image/png": "[encoded data removed]"
          },
          "metadata": {}
        }
      ]
    },
    {
      "cell_type": "markdown",
      "source": [
        "##03-OneMax"
      ],
      "metadata": {
        "id": "s_VeKm9IH79b"
      }
    },
    {
      "cell_type": "markdown",
      "source": [
        "Aproveitou-se até a célula 23"
      ],
      "metadata": {
        "id": "RxghUwuAIBB2"
      }
    },
    {
      "cell_type": "code",
      "source": [
        "# define the hall-of-fame object:\n",
        "HALL_OF_FAME_SIZE = 10\n",
        "hof = tools.HallOfFame(HALL_OF_FAME_SIZE)"
      ],
      "metadata": {
        "id": "dy-Sfz5jH_H8"
      },
      "execution_count": null,
      "outputs": []
    },
    {
      "cell_type": "code",
      "source": [
        "# perform the Genetic Algorithm flow with hof feature added:\n",
        "population, logbook = algorithms.eaSimple(population, toolbox, cxpb=P_CROSSOVER,\n",
        "                                          mutpb=P_MUTATION,ngen=MAX_GENERATIONS,\n",
        "                                          stats=stats, halloffame=hof,\n",
        "                                          verbose=True)"
      ],
      "metadata": {
        "colab": {
          "base_uri": "https://localhost:8080/"
        },
        "id": "pkqyu8rDIdR0",
        "outputId": "94aeae53-c5bb-4bbf-a341-bde6d66e12e0"
      },
      "execution_count": null,
      "outputs": [
        {
          "output_type": "stream",
          "name": "stdout",
          "text": [
            "gen\tnevals\tmax\tavg  \n",
            "0  \t0     \t100\t99.89\n",
            "1  \t182   \t100\t99.89\n",
            "2  \t182   \t100\t99.93\n",
            "3  \t177   \t100\t99.9 \n",
            "4  \t189   \t100\t99.915\n",
            "5  \t188   \t100\t99.89 \n",
            "6  \t186   \t100\t99.915\n",
            "7  \t181   \t100\t99.855\n",
            "8  \t184   \t100\t99.88 \n",
            "9  \t191   \t100\t99.925\n",
            "10 \t178   \t100\t99.89 \n",
            "11 \t177   \t100\t99.92 \n",
            "12 \t180   \t100\t99.955\n",
            "13 \t190   \t100\t99.935\n",
            "14 \t181   \t100\t99.91 \n",
            "15 \t179   \t100\t99.9  \n",
            "16 \t172   \t100\t99.88 \n",
            "17 \t188   \t100\t99.885\n",
            "18 \t172   \t100\t99.88 \n",
            "19 \t184   \t100\t99.865\n",
            "20 \t185   \t100\t99.9  \n",
            "21 \t185   \t100\t99.94 \n",
            "22 \t188   \t100\t99.865\n",
            "23 \t181   \t100\t99.91 \n",
            "24 \t190   \t100\t99.945\n",
            "25 \t185   \t100\t99.82 \n",
            "26 \t180   \t100\t99.895\n",
            "27 \t176   \t100\t99.835\n",
            "28 \t176   \t100\t99.885\n",
            "29 \t177   \t100\t99.91 \n",
            "30 \t181   \t100\t99.875\n",
            "31 \t189   \t100\t99.905\n",
            "32 \t191   \t100\t99.925\n",
            "33 \t189   \t100\t99.905\n",
            "34 \t176   \t100\t99.9  \n",
            "35 \t179   \t100\t99.855\n",
            "36 \t183   \t100\t99.92 \n",
            "37 \t177   \t100\t99.915\n",
            "38 \t172   \t100\t99.885\n",
            "39 \t188   \t100\t99.885\n",
            "40 \t185   \t100\t99.91 \n",
            "41 \t184   \t100\t99.875\n",
            "42 \t187   \t100\t99.915\n",
            "43 \t180   \t100\t99.905\n",
            "44 \t185   \t100\t99.965\n",
            "45 \t182   \t100\t99.92 \n",
            "46 \t185   \t100\t99.855\n",
            "47 \t181   \t100\t99.9  \n",
            "48 \t188   \t100\t99.935\n",
            "49 \t184   \t100\t99.89 \n",
            "50 \t182   \t100\t99.945\n"
          ]
        }
      ]
    },
    {
      "cell_type": "code",
      "source": [
        "# print Hall of Fame info:\n",
        "print(\"Hall of Fame Individuals = \", *hof.items, sep=\"\\n\")\n",
        "print(\"Best Ever Individual = \", hof.items[0])"
      ],
      "metadata": {
        "colab": {
          "base_uri": "https://localhost:8080/"
        },
        "id": "uMLqrfvtIqzk",
        "outputId": "9327a88f-bc0e-498c-d0c9-26f054ef0e81"
      },
      "execution_count": null,
      "outputs": [
        {
          "output_type": "stream",
          "name": "stdout",
          "text": [
            "Hall of Fame Individuals = \n",
            "[1, 1, 1, 1, 1, 1, 1, 1, 1, 1, 1, 1, 1, 1, 1, 1, 1, 1, 1, 1, 1, 1, 1, 1, 1, 1, 1, 1, 1, 1, 1, 1, 1, 1, 1, 1, 1, 1, 1, 1, 1, 1, 1, 1, 1, 1, 1, 1, 1, 1, 1, 1, 1, 1, 1, 1, 1, 1, 1, 1, 1, 1, 1, 1, 1, 1, 1, 1, 1, 1, 1, 1, 1, 1, 1, 1, 1, 1, 1, 1, 1, 1, 1, 1, 1, 1, 1, 1, 1, 1, 1, 1, 1, 1, 1, 1, 1, 1, 1, 1]\n",
            "[1, 1, 1, 1, 1, 1, 1, 1, 1, 1, 1, 1, 1, 1, 1, 1, 1, 1, 1, 1, 1, 1, 1, 1, 1, 1, 1, 1, 1, 1, 1, 1, 1, 1, 1, 1, 1, 1, 1, 1, 1, 1, 1, 1, 1, 1, 1, 1, 1, 1, 1, 1, 1, 1, 1, 1, 1, 1, 1, 1, 1, 1, 1, 0, 1, 1, 1, 1, 1, 1, 1, 1, 1, 1, 1, 1, 1, 1, 1, 1, 1, 1, 1, 1, 1, 1, 1, 1, 1, 1, 1, 1, 1, 1, 1, 1, 1, 1, 1, 1]\n",
            "[1, 1, 1, 0, 1, 1, 1, 1, 1, 1, 1, 1, 1, 1, 1, 1, 1, 1, 1, 1, 1, 1, 1, 1, 1, 1, 1, 1, 1, 1, 1, 1, 1, 1, 1, 1, 1, 1, 1, 1, 1, 1, 1, 1, 1, 1, 1, 1, 1, 1, 1, 1, 1, 1, 1, 1, 1, 1, 1, 1, 1, 1, 1, 1, 1, 1, 1, 1, 1, 1, 1, 1, 1, 1, 1, 1, 1, 1, 1, 1, 1, 1, 1, 1, 1, 1, 1, 1, 1, 1, 1, 1, 1, 1, 1, 1, 1, 1, 1, 1]\n",
            "[1, 1, 1, 1, 1, 1, 1, 1, 1, 1, 1, 1, 1, 1, 1, 1, 1, 1, 1, 1, 1, 1, 1, 1, 1, 1, 1, 1, 1, 1, 1, 1, 1, 1, 1, 1, 1, 1, 1, 1, 1, 0, 1, 1, 1, 1, 1, 1, 1, 1, 1, 1, 1, 1, 1, 1, 1, 1, 1, 1, 1, 1, 1, 1, 1, 1, 1, 1, 1, 1, 1, 1, 1, 1, 1, 1, 1, 1, 1, 1, 1, 1, 1, 1, 1, 1, 1, 1, 1, 1, 1, 1, 1, 1, 1, 1, 1, 1, 1, 1]\n",
            "[1, 1, 1, 1, 1, 1, 1, 1, 1, 1, 1, 1, 1, 1, 1, 1, 1, 1, 1, 1, 1, 1, 1, 1, 1, 1, 1, 1, 1, 1, 1, 1, 1, 1, 1, 1, 1, 1, 1, 1, 1, 1, 1, 1, 1, 1, 1, 1, 1, 1, 1, 0, 1, 1, 1, 1, 1, 1, 1, 1, 1, 1, 1, 1, 1, 1, 1, 1, 1, 1, 1, 1, 1, 1, 1, 1, 1, 1, 1, 1, 1, 1, 1, 1, 1, 1, 1, 1, 1, 1, 1, 1, 1, 1, 1, 1, 1, 1, 1, 1]\n",
            "[1, 1, 1, 1, 1, 1, 1, 1, 1, 1, 1, 1, 1, 1, 1, 1, 1, 1, 1, 1, 1, 1, 1, 1, 1, 1, 1, 1, 1, 1, 1, 1, 1, 1, 1, 1, 1, 1, 1, 1, 1, 1, 1, 1, 1, 0, 1, 1, 1, 1, 1, 1, 1, 1, 1, 1, 1, 1, 1, 1, 1, 1, 1, 1, 1, 1, 1, 1, 1, 1, 1, 1, 1, 1, 1, 1, 1, 1, 1, 1, 1, 1, 1, 1, 1, 1, 1, 1, 1, 1, 1, 1, 1, 1, 1, 1, 1, 1, 1, 1]\n",
            "[1, 1, 1, 1, 1, 1, 1, 1, 1, 1, 1, 1, 1, 1, 1, 1, 1, 1, 1, 1, 1, 1, 1, 1, 1, 1, 1, 1, 1, 1, 1, 1, 1, 1, 1, 1, 1, 1, 1, 1, 1, 1, 1, 1, 1, 1, 1, 1, 1, 1, 1, 1, 1, 1, 1, 1, 1, 1, 1, 1, 1, 1, 1, 1, 1, 1, 1, 1, 1, 1, 1, 1, 1, 0, 1, 1, 1, 1, 1, 1, 1, 1, 1, 1, 1, 1, 1, 1, 1, 1, 1, 1, 1, 1, 1, 1, 1, 1, 1, 1]\n",
            "[1, 1, 1, 1, 1, 1, 1, 1, 1, 0, 1, 1, 1, 1, 1, 1, 1, 1, 1, 1, 1, 1, 1, 1, 1, 1, 1, 1, 1, 1, 1, 1, 1, 1, 1, 1, 1, 1, 1, 1, 1, 1, 1, 1, 1, 1, 1, 1, 1, 1, 1, 1, 1, 1, 1, 1, 1, 1, 1, 1, 1, 1, 1, 1, 1, 1, 1, 1, 1, 1, 1, 1, 1, 1, 1, 1, 1, 1, 1, 1, 1, 1, 1, 1, 1, 1, 1, 1, 1, 1, 1, 1, 1, 1, 1, 1, 1, 1, 1, 1]\n",
            "[1, 1, 1, 1, 1, 1, 1, 1, 1, 1, 1, 1, 1, 1, 1, 1, 1, 1, 1, 1, 1, 1, 1, 1, 1, 1, 1, 1, 1, 1, 1, 1, 1, 1, 1, 1, 1, 1, 1, 1, 1, 1, 1, 1, 1, 1, 1, 1, 1, 1, 1, 1, 1, 1, 1, 1, 1, 1, 1, 1, 1, 1, 1, 1, 1, 1, 1, 1, 1, 1, 1, 1, 1, 1, 1, 1, 1, 1, 1, 1, 1, 1, 1, 1, 1, 1, 1, 1, 1, 1, 1, 1, 1, 1, 1, 1, 1, 0, 1, 1]\n",
            "[1, 1, 1, 1, 1, 1, 1, 1, 1, 1, 1, 1, 1, 1, 1, 1, 1, 1, 1, 1, 1, 1, 1, 1, 1, 1, 1, 1, 1, 0, 1, 1, 1, 1, 1, 1, 1, 1, 1, 1, 1, 1, 1, 1, 1, 1, 1, 1, 1, 1, 1, 1, 1, 1, 1, 1, 1, 1, 1, 1, 1, 1, 1, 1, 1, 1, 1, 1, 1, 1, 1, 1, 1, 1, 1, 1, 1, 1, 1, 1, 1, 1, 1, 1, 1, 1, 1, 1, 1, 1, 1, 1, 1, 1, 1, 1, 1, 1, 1, 1]\n",
            "Best Ever Individual =  [1, 1, 1, 1, 1, 1, 1, 1, 1, 1, 1, 1, 1, 1, 1, 1, 1, 1, 1, 1, 1, 1, 1, 1, 1, 1, 1, 1, 1, 1, 1, 1, 1, 1, 1, 1, 1, 1, 1, 1, 1, 1, 1, 1, 1, 1, 1, 1, 1, 1, 1, 1, 1, 1, 1, 1, 1, 1, 1, 1, 1, 1, 1, 1, 1, 1, 1, 1, 1, 1, 1, 1, 1, 1, 1, 1, 1, 1, 1, 1, 1, 1, 1, 1, 1, 1, 1, 1, 1, 1, 1, 1, 1, 1, 1, 1, 1, 1, 1, 1]\n"
          ]
        }
      ]
    },
    {
      "cell_type": "code",
      "source": [
        "# extract statistics:\n",
        "maxFitnessValues, meanFitnessValues = logbook.select(\"max\", \"avg\")"
      ],
      "metadata": {
        "id": "9HJMwqr1Iwgc"
      },
      "execution_count": null,
      "outputs": []
    },
    {
      "cell_type": "code",
      "source": [
        "# plot statistics:\n",
        "sns.set_style(\"whitegrid\")\n",
        "plt.plot(maxFitnessValues, color='red')\n",
        "plt.plot(meanFitnessValues, color='green')\n",
        "plt.xlabel('Generation')\n",
        "plt.ylabel('Max / Average Fitness')\n",
        "plt.title('Max and Average Fitness over Generations')\n",
        "plt.show()"
      ],
      "metadata": {
        "colab": {
          "base_uri": "https://localhost:8080/",
          "height": 295
        },
        "id": "ZREpwHBUI0U0",
        "outputId": "dbb86dc5-868a-4ea0-8940-9da08ebdac32"
      },
      "execution_count": null,
      "outputs": [
        {
          "output_type": "display_data",
          "data": {
            "text/plain": [
              "<Figure size 432x288 with 1 Axes>"
            ],
            "image/png": "[encoded data removed]"
          },
          "metadata": {}
        }
      ]
    }
  ]
}