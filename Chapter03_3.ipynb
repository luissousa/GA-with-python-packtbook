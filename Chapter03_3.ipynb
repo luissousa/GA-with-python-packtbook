{
  "nbformat": 4,
  "nbformat_minor": 0,
  "metadata": {
    "colab": {
      "name": "Chapter03-3.ipynb",
      "provenance": [],
      "authorship_tag": "ABX9TyPHM2imtF9aPfFKWzl8jRKQ",
      "include_colab_link": true
    },
    "kernelspec": {
      "name": "python3",
      "display_name": "Python 3"
    },
    "language_info": {
      "name": "python"
    }
  },
  "cells": [
    {
      "cell_type": "markdown",
      "metadata": {
        "id": "view-in-github",
        "colab_type": "text"
      },
      "source": [
        "<a href=\"https://colab.research.google.com/github/luissousa/GA-with-python-packtbook/blob/main/Chapter03_3.ipynb\" target=\"_parent\"><img src=\"https://colab.research.google.com/assets/colab-badge.svg\" alt=\"Open In Colab\"/></a>"
      ]
    },
    {
      "cell_type": "markdown",
      "source": [
        "##03-OneMax"
      ],
      "metadata": {
        "id": "5COKBO1v94lY"
      }
    },
    {
      "cell_type": "code",
      "execution_count": 23,
      "metadata": {
        "colab": {
          "base_uri": "https://localhost:8080/"
        },
        "id": "-3IRbRXp9sZh",
        "outputId": "60f3e9b3-470c-4a84-fa18-6fb5d455e87b"
      },
      "outputs": [
        {
          "output_type": "stream",
          "name": "stdout",
          "text": [
            "Requirement already satisfied: deap in /usr/local/lib/python3.7/dist-packages (1.3.1)\n",
            "Requirement already satisfied: numpy in /usr/local/lib/python3.7/dist-packages (from deap) (1.21.5)\n"
          ]
        }
      ],
      "source": [
        "!pip install deap"
      ]
    },
    {
      "cell_type": "code",
      "source": [
        "from deap import base, creator, tools, algorithms\n",
        "import random\n",
        "import numpy as np\n",
        "import matplotlib.pyplot as plt\n",
        "import seaborn as sns"
      ],
      "metadata": {
        "id": "EZz51MQo98-_"
      },
      "execution_count": 24,
      "outputs": []
    },
    {
      "cell_type": "code",
      "source": [
        "#problem constants\n",
        "ONE_MAX_LENGTH = 100 #lenght of bit string to be optimized\n",
        "#Genetic algorithm constants?\n",
        "POPULATION_SIZE = 200 #number of individuals in population\n",
        "P_CROSSOVER = 0.9 #probability for crossover\n",
        "P_MUTATION = 0.1 #probability for mutating an idividual\n",
        "MAX_GENERATIONS = 50 #max number of generations for stopping condition\n",
        "HALL_OF_FAME_SIZE = 10"
      ],
      "metadata": {
        "id": "BSd93rMV-BmR"
      },
      "execution_count": 25,
      "outputs": []
    },
    {
      "cell_type": "code",
      "source": [
        "RANDOM_SEED = 42\n",
        "random.seed(RANDOM_SEED)"
      ],
      "metadata": {
        "id": "7dLEnZoz-EGI"
      },
      "execution_count": 26,
      "outputs": []
    },
    {
      "cell_type": "code",
      "source": [
        "toolbox = base.Toolbox()\n",
        "toolbox.register(\"zeroOrone\",random.randint,0,1)"
      ],
      "metadata": {
        "id": "relMYzt3-F8o"
      },
      "execution_count": 27,
      "outputs": []
    },
    {
      "cell_type": "code",
      "source": [
        "creator.create(\"FitnessMax\",base.Fitness,weights=(1.0,))"
      ],
      "metadata": {
        "id": "5j6kJNrp-H7v",
        "outputId": "551ba91a-8b97-48ee-fe1a-69a7e7388bd5",
        "colab": {
          "base_uri": "https://localhost:8080/"
        }
      },
      "execution_count": 28,
      "outputs": [
        {
          "output_type": "stream",
          "name": "stderr",
          "text": [
            "/usr/local/lib/python3.7/dist-packages/deap/creator.py:141: RuntimeWarning: A class named 'FitnessMax' has already been created and it will be overwritten. Consider deleting previous creation of that class or rename it.\n",
            "  RuntimeWarning)\n"
          ]
        }
      ]
    },
    {
      "cell_type": "code",
      "source": [
        "creator.create(\"Individual\",list,fitness=creator.FitnessMax)"
      ],
      "metadata": {
        "id": "VZXwHRNz-JpG",
        "outputId": "b04e4e17-322b-4fbb-e2af-6220908bda78",
        "colab": {
          "base_uri": "https://localhost:8080/"
        }
      },
      "execution_count": 29,
      "outputs": [
        {
          "output_type": "stream",
          "name": "stderr",
          "text": [
            "/usr/local/lib/python3.7/dist-packages/deap/creator.py:141: RuntimeWarning: A class named 'Individual' has already been created and it will be overwritten. Consider deleting previous creation of that class or rename it.\n",
            "  RuntimeWarning)\n"
          ]
        }
      ]
    },
    {
      "cell_type": "code",
      "source": [
        "toolbox.register(\"individualCreator\",tools.initRepeat,creator.Individual,toolbox.zeroOrone,ONE_MAX_LENGTH)"
      ],
      "metadata": {
        "id": "I5k6UKny-LTY"
      },
      "execution_count": 30,
      "outputs": []
    },
    {
      "cell_type": "code",
      "source": [
        "toolbox.register(\"populationCreator\",tools.initRepeat,list,toolbox.individualCreator)"
      ],
      "metadata": {
        "id": "hSFKMpaK-NOv"
      },
      "execution_count": 31,
      "outputs": []
    },
    {
      "cell_type": "code",
      "source": [
        "def oneMaxFitness(individual):\n",
        "  return sum(individual), #return a tuple"
      ],
      "metadata": {
        "id": "h3Dw-x0_-QgH"
      },
      "execution_count": 32,
      "outputs": []
    },
    {
      "cell_type": "code",
      "source": [
        "toolbox.register(\"evaluate\",oneMaxFitness)"
      ],
      "metadata": {
        "id": "6_O32fSz-RGf"
      },
      "execution_count": 33,
      "outputs": []
    },
    {
      "cell_type": "code",
      "source": [
        "toolbox.register(\"select\",tools.selTournament,tournsize=3)\n",
        "toolbox.register(\"mate\",tools.cxOnePoint)\n",
        "toolbox.register(\"mutate\",tools.mutFlipBit,indpb=1.0/ONE_MAX_LENGTH)"
      ],
      "metadata": {
        "id": "mLi5Kkeg-T0X"
      },
      "execution_count": 34,
      "outputs": []
    },
    {
      "cell_type": "code",
      "source": [
        "population = toolbox.populationCreator(n=POPULATION_SIZE)"
      ],
      "metadata": {
        "id": "EZ8a5yP_-WL3"
      },
      "execution_count": 35,
      "outputs": []
    },
    {
      "cell_type": "code",
      "source": [
        "# prepare the statistics object:\n",
        "stats = tools.Statistics(lambda ind: ind.fitness.values)\n",
        "stats.register(\"max\", np.max)\n",
        "stats.register(\"avg\", np.mean)"
      ],
      "metadata": {
        "id": "SNcUSLF5720A"
      },
      "execution_count": 36,
      "outputs": []
    },
    {
      "cell_type": "code",
      "source": [
        "# define the hall-of-fame object:\n",
        "hof = tools.HallOfFame(HALL_OF_FAME_SIZE)"
      ],
      "metadata": {
        "id": "BkOCVAwn-odX"
      },
      "execution_count": 37,
      "outputs": []
    },
    {
      "cell_type": "code",
      "source": [
        "# perform the Genetic Algorithm flow with hof feature added:\n",
        "population, logbook = algorithms.eaSimple(population, toolbox,\n",
        "                                              cxpb=P_CROSSOVER,\n",
        "                                              mutpb=P_MUTATION,\n",
        "                                              ngen=MAX_GENERATIONS,\n",
        "                                              stats=stats,\n",
        "                                              halloffame=hof,\n",
        "                                              verbose=True)"
      ],
      "metadata": {
        "colab": {
          "base_uri": "https://localhost:8080/"
        },
        "id": "zhMvZdYK76u_",
        "outputId": "f4389d68-9c33-4481-b8eb-2c437cc34021"
      },
      "execution_count": 38,
      "outputs": [
        {
          "output_type": "stream",
          "name": "stdout",
          "text": [
            "gen\tnevals\tmax\tavg   \n",
            "0  \t200   \t61 \t49.695\n",
            "1  \t193   \t65 \t53.575\n",
            "2  \t179   \t66 \t56.855\n",
            "3  \t187   \t69 \t59.42 \n",
            "4  \t184   \t70 \t62.03 \n",
            "5  \t188   \t75 \t64.715\n",
            "6  \t176   \t75 \t67.515\n",
            "7  \t184   \t77 \t70.215\n",
            "8  \t180   \t81 \t72.475\n",
            "9  \t174   \t82 \t74.79 \n",
            "10 \t172   \t85 \t76.685\n",
            "11 \t177   \t85 \t78.46 \n",
            "12 \t178   \t87 \t80.265\n",
            "13 \t178   \t87 \t81.8  \n",
            "14 \t184   \t87 \t83.15 \n",
            "15 \t181   \t89 \t84.4  \n",
            "16 \t185   \t89 \t85.59 \n",
            "17 \t174   \t90 \t86.755\n",
            "18 \t186   \t91 \t87.715\n",
            "19 \t184   \t92 \t88.495\n",
            "20 \t178   \t92 \t89.275\n",
            "21 \t176   \t93 \t90.04 \n",
            "22 \t185   \t94 \t90.865\n",
            "23 \t180   \t94 \t91.645\n",
            "24 \t177   \t95 \t92.69 \n",
            "25 \t191   \t95 \t93.325\n",
            "26 \t169   \t95 \t93.935\n",
            "27 \t184   \t96 \t94.39 \n",
            "28 \t184   \t96 \t94.84 \n",
            "29 \t179   \t96 \t95.07 \n",
            "30 \t183   \t97 \t95.325\n",
            "31 \t180   \t97 \t95.69 \n",
            "32 \t189   \t97 \t95.93 \n",
            "33 \t177   \t97 \t96.085\n",
            "34 \t188   \t98 \t96.325\n",
            "35 \t169   \t98 \t96.835\n",
            "36 \t182   \t98 \t97.18 \n",
            "37 \t183   \t99 \t97.655\n",
            "38 \t182   \t99 \t97.91 \n",
            "39 \t192   \t99 \t98.04 \n",
            "40 \t173   \t100\t98.29 \n",
            "41 \t182   \t100\t98.55 \n",
            "42 \t176   \t100\t98.915\n",
            "43 \t188   \t100\t99.195\n",
            "44 \t192   \t100\t99.595\n",
            "45 \t193   \t100\t99.82 \n",
            "46 \t189   \t100\t99.82 \n",
            "47 \t189   \t100\t99.895\n",
            "48 \t190   \t100\t99.875\n",
            "49 \t187   \t100\t99.83 \n",
            "50 \t184   \t100\t99.89 \n"
          ]
        }
      ]
    },
    {
      "cell_type": "code",
      "source": [
        "# print Hall of Fame info:\n",
        "print(\"Hall of Fame Individuals = \", *hof.items, sep=\"\\n\")\n",
        "print(\"Best Ever Individual = \", hof.items[0])"
      ],
      "metadata": {
        "colab": {
          "base_uri": "https://localhost:8080/"
        },
        "id": "z61YJACY-1mw",
        "outputId": "53a86956-0b1e-4150-c0b2-4e995eec9603"
      },
      "execution_count": 39,
      "outputs": [
        {
          "output_type": "stream",
          "name": "stdout",
          "text": [
            "Hall of Fame Individuals = \n",
            "[1, 1, 1, 1, 1, 1, 1, 1, 1, 1, 1, 1, 1, 1, 1, 1, 1, 1, 1, 1, 1, 1, 1, 1, 1, 1, 1, 1, 1, 1, 1, 1, 1, 1, 1, 1, 1, 1, 1, 1, 1, 1, 1, 1, 1, 1, 1, 1, 1, 1, 1, 1, 1, 1, 1, 1, 1, 1, 1, 1, 1, 1, 1, 1, 1, 1, 1, 1, 1, 1, 1, 1, 1, 1, 1, 1, 1, 1, 1, 1, 1, 1, 1, 1, 1, 1, 1, 1, 1, 1, 1, 1, 1, 1, 1, 1, 1, 1, 1, 1]\n",
            "[1, 1, 1, 1, 1, 1, 1, 1, 1, 1, 1, 1, 1, 1, 1, 0, 1, 1, 1, 1, 1, 1, 1, 1, 1, 1, 1, 1, 1, 1, 1, 1, 1, 1, 1, 1, 1, 1, 1, 1, 1, 1, 1, 1, 1, 1, 1, 1, 1, 1, 1, 1, 1, 1, 1, 1, 1, 1, 1, 1, 1, 1, 1, 1, 1, 1, 1, 1, 1, 1, 1, 1, 1, 1, 1, 1, 1, 1, 1, 1, 1, 1, 1, 1, 1, 1, 1, 1, 1, 1, 1, 1, 1, 1, 1, 1, 1, 1, 1, 1]\n",
            "[1, 1, 1, 1, 1, 1, 1, 1, 1, 1, 1, 1, 1, 1, 1, 1, 1, 1, 1, 1, 1, 1, 1, 1, 1, 1, 1, 1, 1, 1, 1, 1, 1, 1, 1, 1, 1, 1, 1, 1, 1, 1, 1, 1, 1, 1, 1, 1, 1, 1, 1, 1, 1, 1, 1, 1, 1, 1, 1, 1, 1, 1, 1, 0, 1, 1, 1, 1, 1, 1, 1, 1, 1, 1, 1, 1, 1, 1, 1, 1, 1, 1, 1, 1, 1, 1, 1, 1, 1, 1, 1, 1, 1, 1, 1, 1, 1, 1, 1, 1]\n",
            "[1, 1, 1, 1, 1, 1, 1, 1, 1, 1, 1, 1, 1, 1, 1, 1, 1, 1, 1, 1, 1, 1, 1, 1, 1, 1, 1, 1, 1, 1, 1, 1, 1, 1, 1, 1, 1, 1, 1, 1, 1, 1, 1, 1, 1, 1, 1, 1, 1, 1, 1, 1, 1, 1, 1, 1, 1, 1, 1, 1, 1, 1, 1, 1, 1, 1, 1, 1, 1, 1, 1, 1, 1, 1, 1, 1, 1, 1, 1, 1, 1, 1, 1, 1, 1, 1, 1, 1, 1, 1, 1, 1, 1, 1, 1, 0, 1, 1, 1, 1]\n",
            "[1, 1, 1, 1, 1, 1, 1, 1, 1, 1, 1, 1, 0, 1, 1, 1, 1, 1, 1, 1, 1, 1, 1, 1, 1, 1, 1, 1, 1, 1, 1, 1, 1, 1, 1, 1, 1, 1, 1, 1, 1, 1, 1, 1, 1, 1, 1, 1, 1, 1, 1, 1, 1, 1, 1, 1, 1, 1, 1, 1, 1, 1, 1, 1, 1, 1, 1, 1, 1, 1, 1, 1, 1, 1, 1, 1, 1, 1, 1, 1, 1, 1, 1, 1, 1, 1, 1, 1, 1, 1, 1, 1, 1, 1, 1, 1, 1, 1, 1, 1]\n",
            "[1, 1, 1, 1, 1, 1, 1, 1, 1, 1, 1, 1, 1, 1, 1, 1, 0, 1, 1, 1, 1, 1, 1, 1, 1, 1, 1, 1, 1, 1, 1, 1, 1, 1, 1, 1, 1, 1, 1, 1, 1, 1, 1, 1, 1, 1, 1, 1, 1, 1, 1, 1, 1, 1, 1, 1, 1, 1, 1, 1, 1, 1, 1, 1, 1, 1, 1, 1, 1, 1, 1, 1, 1, 1, 1, 1, 1, 1, 1, 1, 1, 1, 1, 1, 1, 1, 1, 1, 1, 1, 1, 1, 1, 1, 1, 1, 1, 1, 1, 1]\n",
            "[0, 1, 1, 1, 1, 1, 1, 1, 1, 1, 1, 1, 1, 1, 1, 1, 1, 1, 1, 1, 1, 1, 1, 1, 1, 1, 1, 1, 1, 1, 1, 1, 1, 1, 1, 1, 1, 1, 1, 1, 1, 1, 1, 1, 1, 1, 1, 1, 1, 1, 1, 1, 1, 1, 1, 1, 1, 1, 1, 1, 1, 1, 1, 1, 1, 1, 1, 1, 1, 1, 1, 1, 1, 1, 1, 1, 1, 1, 1, 1, 1, 1, 1, 1, 1, 1, 1, 1, 1, 1, 1, 1, 1, 1, 1, 1, 1, 1, 1, 1]\n",
            "[1, 1, 1, 1, 1, 1, 1, 1, 1, 1, 1, 1, 1, 1, 1, 1, 1, 1, 1, 1, 1, 1, 1, 1, 1, 1, 1, 0, 1, 1, 1, 1, 1, 1, 1, 1, 1, 1, 1, 1, 1, 1, 1, 1, 1, 1, 1, 1, 1, 1, 1, 1, 1, 1, 1, 1, 1, 1, 1, 1, 1, 1, 1, 1, 1, 1, 1, 1, 1, 1, 1, 1, 1, 1, 1, 1, 1, 1, 1, 1, 1, 1, 1, 1, 1, 1, 1, 1, 1, 1, 1, 1, 1, 1, 1, 1, 1, 1, 1, 1]\n",
            "[1, 1, 1, 1, 1, 1, 1, 1, 1, 1, 1, 1, 1, 0, 1, 1, 1, 1, 1, 1, 1, 1, 1, 1, 1, 1, 1, 1, 1, 1, 1, 1, 1, 1, 1, 1, 1, 1, 1, 1, 1, 1, 1, 1, 1, 1, 1, 1, 1, 1, 1, 1, 1, 1, 1, 1, 1, 1, 1, 1, 1, 1, 1, 1, 1, 1, 1, 1, 1, 1, 1, 1, 1, 1, 1, 1, 1, 1, 1, 1, 1, 1, 1, 1, 1, 1, 1, 1, 1, 1, 1, 1, 1, 1, 1, 1, 1, 1, 1, 1]\n",
            "[1, 1, 1, 1, 1, 1, 1, 1, 1, 1, 1, 1, 1, 1, 1, 1, 1, 1, 1, 1, 1, 1, 1, 1, 1, 1, 1, 1, 1, 1, 1, 1, 1, 1, 1, 1, 1, 1, 1, 1, 1, 1, 1, 1, 1, 1, 1, 1, 1, 1, 0, 1, 1, 1, 1, 1, 1, 1, 1, 1, 1, 1, 1, 1, 1, 1, 1, 1, 1, 1, 1, 1, 1, 1, 1, 1, 1, 1, 1, 1, 1, 1, 1, 1, 1, 1, 1, 1, 1, 1, 1, 1, 1, 1, 1, 1, 1, 1, 1, 1]\n",
            "Best Ever Individual =  [1, 1, 1, 1, 1, 1, 1, 1, 1, 1, 1, 1, 1, 1, 1, 1, 1, 1, 1, 1, 1, 1, 1, 1, 1, 1, 1, 1, 1, 1, 1, 1, 1, 1, 1, 1, 1, 1, 1, 1, 1, 1, 1, 1, 1, 1, 1, 1, 1, 1, 1, 1, 1, 1, 1, 1, 1, 1, 1, 1, 1, 1, 1, 1, 1, 1, 1, 1, 1, 1, 1, 1, 1, 1, 1, 1, 1, 1, 1, 1, 1, 1, 1, 1, 1, 1, 1, 1, 1, 1, 1, 1, 1, 1, 1, 1, 1, 1, 1, 1]\n"
          ]
        }
      ]
    },
    {
      "cell_type": "code",
      "source": [
        "#extract statistics:\n",
        "maxFitnessValues, meanFitnessValues = logbook.select(\"max\", \"avg\")"
      ],
      "metadata": {
        "id": "kGVPGfG8_MV-"
      },
      "execution_count": 40,
      "outputs": []
    },
    {
      "cell_type": "code",
      "source": [
        "# plot statistics:\n",
        "sns.set_style(\"whitegrid\")\n",
        "plt.plot(maxFitnessValues, color='red')\n",
        "plt.plot(meanFitnessValues, color='green')\n",
        "plt.xlabel('Generation')\n",
        "plt.ylabel('Max / Average Fitness')\n",
        "plt.title('Max and Average Fitness over Generations')\n",
        "plt.show()"
      ],
      "metadata": {
        "colab": {
          "base_uri": "https://localhost:8080/",
          "height": 295
        },
        "id": "nQO5GFvA_QkH",
        "outputId": "9d87a31e-286d-4fbe-fbe7-d1b3961c080f"
      },
      "execution_count": 41,
      "outputs": [
        {
          "output_type": "display_data",
          "data": {
            "text/plain": [
              "<Figure size 432x288 with 1 Axes>"
            ],
            "image/png": "[encoded data removed]"
          },
          "metadata": {}
        }
      ]
    }
  ]
}